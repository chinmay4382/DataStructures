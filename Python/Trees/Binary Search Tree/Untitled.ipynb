{
 "cells": [
  {
   "cell_type": "code",
   "execution_count": 1,
   "metadata": {},
   "outputs": [
    {
     "name": "stdout",
     "output_type": "stream",
     "text": [
      "20\n",
      "30\n",
      "40\n",
      "50\n",
      "60\n",
      "70\n",
      "80\n"
     ]
    }
   ],
   "source": [
    "class Node: \n",
    "    def __init__(self,key): \n",
    "        self.left = None\n",
    "        self.right = None\n",
    "        self.val = key \n",
    "\n",
    "    def insert(self,root,node): \n",
    "        if self.root is None: \n",
    "            self.root = node \n",
    "        else: \n",
    "            if self.root.val < node.val: \n",
    "                if self.root.right is None: \n",
    "                    self.root.right = node \n",
    "                else: \n",
    "                    insert(self.root.right, node) \n",
    "            else: \n",
    "                if self.root.left is None: \n",
    "                    self.root.left = node \n",
    "                else: \n",
    "                    insert(self.root.left, node) \n",
    "\n",
    "    def inorder(self.root): \n",
    "        if self.root: \n",
    "            inorder(self.root.left) \n",
    "            print(self.root.val) \n",
    "            inorder(self.root.right)"
   ]
  },
  {
   "cell_type": "code",
   "execution_count": null,
   "metadata": {},
   "outputs": [],
   "source": [
    "r = Node(50) \n",
    "insert(r,Node(30)) \n",
    "insert(r,Node(20)) \n",
    "insert(r,Node(40)) \n",
    "insert(r,Node(70)) \n",
    "insert(r,Node(60)) \n",
    "insert(r,Node(80)) \n",
    "\n",
    "# Print inoder traversal of the BST \n",
    "inorder(r) "
   ]
  },
  {
   "cell_type": "code",
   "execution_count": null,
   "metadata": {},
   "outputs": [],
   "source": []
  }
 ],
 "metadata": {
  "kernelspec": {
   "display_name": "Python 3",
   "language": "python",
   "name": "python3"
  },
  "language_info": {
   "codemirror_mode": {
    "name": "ipython",
    "version": 3
   },
   "file_extension": ".py",
   "mimetype": "text/x-python",
   "name": "python",
   "nbconvert_exporter": "python",
   "pygments_lexer": "ipython3",
   "version": "3.6.5"
  }
 },
 "nbformat": 4,
 "nbformat_minor": 2
}
