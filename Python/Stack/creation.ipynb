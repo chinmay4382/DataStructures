{
 "cells": [
  {
   "cell_type": "markdown",
   "metadata": {},
   "source": [
    "# Using Linked List"
   ]
  },
  {
   "cell_type": "code",
   "execution_count": 4,
   "metadata": {},
   "outputs": [],
   "source": [
    "class Node:\n",
    "    def __init__(self,data):\n",
    "        self.data =data\n",
    "        self.next =None\n",
    "\n",
    "        "
   ]
  },
  {
   "cell_type": "markdown",
   "metadata": {},
   "source": [
    "# class Stack:\n"
   ]
  },
  {
   "cell_type": "code",
   "execution_count": 47,
   "metadata": {},
   "outputs": [],
   "source": [
    "    def __init__(self): \n",
    "        self.head = None\n",
    "        \n",
    "    def isEmpty(self): \n",
    "        return True if self.root is None else  False\n",
    "    \n",
    "    def push(self,data):\n",
    "        new_node = Node(data)\n",
    "        if self.head==None:\n",
    "            self.head=new_node\n",
    "        else:\n",
    "            new_node.next=self.head\n",
    "            self.head=new_node\n",
    "            \n",
    "    def pop(self):\n",
    "        if self.head==None:\n",
    "            return\n",
    "        else:\n",
    "            curr=self.head\n",
    "            self.head=self.head.next\n",
    "            return curr.data\n"
   ]
  },
  {
   "cell_type": "code",
   "execution_count": 48,
   "metadata": {},
   "outputs": [],
   "source": [
    "s=Stack()"
   ]
  },
  {
   "cell_type": "code",
   "execution_count": 49,
   "metadata": {},
   "outputs": [],
   "source": [
    "s.push(10)\n",
    "s.push(20)\n",
    "s.push(30)\n",
    "s.push(40)\n",
    "s.push(50)"
   ]
  },
  {
   "cell_type": "code",
   "execution_count": 50,
   "metadata": {},
   "outputs": [
    {
     "data": {
      "text/plain": [
       "50"
      ]
     },
     "execution_count": 50,
     "metadata": {},
     "output_type": "execute_result"
    }
   ],
   "source": [
    "s.pop()"
   ]
  },
  {
   "cell_type": "code",
   "execution_count": null,
   "metadata": {},
   "outputs": [],
   "source": []
  },
  {
   "cell_type": "markdown",
   "metadata": {},
   "source": [
    "#  Using List"
   ]
  },
  {
   "cell_type": "code",
   "execution_count": 40,
   "metadata": {},
   "outputs": [],
   "source": [
    "from sys import maxsize \n",
    "  \n",
    "# Function to create a stack. It initializes size of stack as 0 \n",
    "def createStack(): \n",
    "    stack = [] \n",
    "    return stack \n",
    "  \n",
    "# Stack is empty when stack size is 0 \n",
    "def isEmpty(stack): \n",
    "    return len(stack) == 0\n",
    "  \n",
    "# Function to add an item to stack. It increases size by 1 \n",
    "def push(stack, item): \n",
    "    stack.append(item) \n",
    "    print(item + \" pushed to stack \") \n",
    "      \n",
    "# Function to remove an item from stack. It decreases size by 1 \n",
    "def pop(stack): \n",
    "    if (isEmpty(stack)): \n",
    "        return str(-maxsize -1) # return minus infinite \n",
    "      \n",
    "    return stack.pop() \n",
    "  \n",
    "# Function to return the top from stack without removing it \n",
    "def peek(stack): \n",
    "    if (isEmpty(stack)): \n",
    "        return str(-maxsize -1) # return minus infinite \n",
    "    return stack[len(stack) - 1] \n",
    "  "
   ]
  },
  {
   "cell_type": "code",
   "execution_count": 41,
   "metadata": {},
   "outputs": [
    {
     "name": "stdout",
     "output_type": "stream",
     "text": [
      "10 pushed to stack \n",
      "20 pushed to stack \n",
      "30 pushed to stack \n",
      "30 popped from stack\n"
     ]
    }
   ],
   "source": [
    "stack = createStack() \n",
    "push(stack, str(10)) \n",
    "push(stack, str(20)) \n",
    "push(stack, str(30)) \n",
    "print(pop(stack) + \" popped from stack\") "
   ]
  },
  {
   "cell_type": "code",
   "execution_count": null,
   "metadata": {},
   "outputs": [],
   "source": []
  }
 ],
 "metadata": {
  "kernelspec": {
   "display_name": "Python 3",
   "language": "python",
   "name": "python3"
  },
  "language_info": {
   "codemirror_mode": {
    "name": "ipython",
    "version": 3
   },
   "file_extension": ".py",
   "mimetype": "text/x-python",
   "name": "python",
   "nbconvert_exporter": "python",
   "pygments_lexer": "ipython3",
   "version": "3.6.5"
  }
 },
 "nbformat": 4,
 "nbformat_minor": 2
}
