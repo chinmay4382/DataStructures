{
 "cells": [
  {
   "cell_type": "markdown",
   "metadata": {},
   "source": [
    "## Using List"
   ]
  },
  {
   "cell_type": "code",
   "execution_count": 116,
   "metadata": {},
   "outputs": [],
   "source": [
    "class Queue:  \n",
    "    def __init__(self): \n",
    "        self.s1 = [] # acts like stack1\n",
    "        \n",
    "    def enQueue(self, x): \n",
    "        self.s1.insert(0,x)\n",
    "        \n",
    "    def deQueue(self): \n",
    "          \n",
    "        if len(self.s1) == 0:  \n",
    "            print(\"Q is Empty\") \n",
    "            return\n",
    "        return self.s1.pop()      "
   ]
  },
  {
   "cell_type": "code",
   "execution_count": 117,
   "metadata": {},
   "outputs": [],
   "source": [
    "q = Queue() \n",
    "q.enQueue(1)  \n",
    "q.enQueue(2)  \n",
    "q.enQueue(3)  "
   ]
  },
  {
   "cell_type": "code",
   "execution_count": 123,
   "metadata": {},
   "outputs": [
    {
     "name": "stdout",
     "output_type": "stream",
     "text": [
      "Q is Empty\n"
     ]
    }
   ],
   "source": [
    "q.deQueue() "
   ]
  }
 ],
 "metadata": {
  "kernelspec": {
   "display_name": "Python 3",
   "language": "python",
   "name": "python3"
  },
  "language_info": {
   "codemirror_mode": {
    "name": "ipython",
    "version": 3
   },
   "file_extension": ".py",
   "mimetype": "text/x-python",
   "name": "python",
   "nbconvert_exporter": "python",
   "pygments_lexer": "ipython3",
   "version": "3.6.5"
  }
 },
 "nbformat": 4,
 "nbformat_minor": 2
}
