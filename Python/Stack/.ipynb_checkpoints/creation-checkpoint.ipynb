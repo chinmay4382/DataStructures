{
 "cells": [
  {
   "cell_type": "markdown",
   "metadata": {},
   "source": [
    "# Using Linked List"
   ]
  },
  {
   "cell_type": "code",
   "execution_count": 4,
   "metadata": {},
   "outputs": [],
   "source": [
    "class Node:\n",
    "    def __init__(self,data):\n",
    "        self.data =data\n",
    "        self.next =None\n",
    "\n",
    "        "
   ]
  },
  {
   "cell_type": "code",
   "execution_count": 22,
   "metadata": {},
   "outputs": [],
   "source": [
    "class Stack:\n",
    "    def __init__(self): \n",
    "        self.head = None\n",
    "        \n",
    "    def isEmpty(self): \n",
    "        return True if self.root is None else  False\n",
    "    \n",
    "    def push(self,data):\n",
    "        new_node = Node(data)\n",
    "        if self.head==None:\n",
    "            self.head=new_node\n",
    "        else:\n",
    "            new_node.next=self.head.next\n",
    "            self.head=new_node\n",
    "            \n",
    "    def pop(self):\n",
    "        if self.head==None:\n",
    "            return\n",
    "        else:\n",
    "            curr=self.head\n",
    "            self.head=self.head.next\n",
    "            return curr.data\n",
    "    def print(self):\n",
    "        temp= self.head\n",
    "        while(temp):\n",
    "            print(temp.data, end=' ')\n",
    "            temp=temp.next"
   ]
  },
  {
   "cell_type": "code",
   "execution_count": 23,
   "metadata": {},
   "outputs": [],
   "source": [
    "s=Stack()"
   ]
  },
  {
   "cell_type": "code",
   "execution_count": 24,
   "metadata": {},
   "outputs": [],
   "source": [
    "s.push(10)\n",
    "s.push(20)\n",
    "s.push(30)\n",
    "s.push(40)\n",
    "s.push(50)"
   ]
  },
  {
   "cell_type": "code",
   "execution_count": 21,
   "metadata": {},
   "outputs": [],
   "source": [
    "s.pop()"
   ]
  },
  {
   "cell_type": "code",
   "execution_count": null,
   "metadata": {},
   "outputs": [],
   "source": []
  }
 ],
 "metadata": {
  "kernelspec": {
   "display_name": "Python 3",
   "language": "python",
   "name": "python3"
  },
  "language_info": {
   "codemirror_mode": {
    "name": "ipython",
    "version": 3
   },
   "file_extension": ".py",
   "mimetype": "text/x-python",
   "name": "python",
   "nbconvert_exporter": "python",
   "pygments_lexer": "ipython3",
   "version": "3.6.5"
  }
 },
 "nbformat": 4,
 "nbformat_minor": 2
}
