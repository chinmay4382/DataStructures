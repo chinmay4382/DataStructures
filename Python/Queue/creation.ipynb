{
 "cells": [
  {
   "cell_type": "code",
   "execution_count": 4,
   "metadata": {},
   "outputs": [],
   "source": [
    "class Node: \n",
    "      \n",
    "    def __init__(self, data): \n",
    "        self.data = data \n",
    "        self.next = None"
   ]
  },
  {
   "cell_type": "code",
   "execution_count": 5,
   "metadata": {},
   "outputs": [],
   "source": [
    "class Queue: \n",
    "      \n",
    "    def __init__(self): \n",
    "        self.front = None\n",
    "        self.rear = None\n",
    "  \n",
    "    def isEmpty(self): \n",
    "        return self.front == None\n",
    "    \n",
    "    def EnQueue(self, item): \n",
    "        new_node = Node(item) \n",
    "        if self.rear == None: \n",
    "            self.front = self.rear = new_node \n",
    "            return\n",
    "        self.rear.next = new_node \n",
    "        self.rear = new_node \n",
    "        \n",
    "    def DeQueue(self): \n",
    "          \n",
    "        if self.isEmpty(): \n",
    "            return\n",
    "        new_node = self.front \n",
    "        self.front = new_node.next\n",
    "  \n",
    "        if(self.front == None): \n",
    "            self.rear = None\n",
    "        return str(new_node.data) "
   ]
  },
  {
   "cell_type": "code",
   "execution_count": 9,
   "metadata": {},
   "outputs": [],
   "source": [
    "obj = Queue()"
   ]
  },
  {
   "cell_type": "code",
   "execution_count": 10,
   "metadata": {},
   "outputs": [],
   "source": [
    "obj.EnQueue(10)\n",
    "obj.EnQueue(20)\n",
    "obj.EnQueue(30)\n",
    "obj.EnQueue(40)\n",
    "obj.EnQueue(50)\n",
    "obj.EnQueue(60)"
   ]
  },
  {
   "cell_type": "code",
   "execution_count": 16,
   "metadata": {},
   "outputs": [
    {
     "data": {
      "text/plain": [
       "'60'"
      ]
     },
     "execution_count": 16,
     "metadata": {},
     "output_type": "execute_result"
    }
   ],
   "source": [
    "obj.DeQueue()"
   ]
  },
  {
   "cell_type": "code",
   "execution_count": null,
   "metadata": {},
   "outputs": [],
   "source": []
  },
  {
   "cell_type": "code",
   "execution_count": null,
   "metadata": {},
   "outputs": [],
   "source": []
  }
 ],
 "metadata": {
  "kernelspec": {
   "display_name": "Python 3",
   "language": "python",
   "name": "python3"
  },
  "language_info": {
   "codemirror_mode": {
    "name": "ipython",
    "version": 3
   },
   "file_extension": ".py",
   "mimetype": "text/x-python",
   "name": "python",
   "nbconvert_exporter": "python",
   "pygments_lexer": "ipython3",
   "version": "3.6.5"
  }
 },
 "nbformat": 4,
 "nbformat_minor": 2
}
