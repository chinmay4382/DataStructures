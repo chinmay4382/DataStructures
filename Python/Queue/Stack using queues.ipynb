{
 "cells": [
  {
   "cell_type": "markdown",
   "metadata": {},
   "source": [
    "## Using In built Queues"
   ]
  },
  {
   "cell_type": "code",
   "execution_count": 1,
   "metadata": {},
   "outputs": [],
   "source": [
    "from queue import Queue \n",
    "  \n",
    "class Stack: \n",
    "      \n",
    "    def __init__(self): \n",
    "          \n",
    "        # Two inbuilt queues  \n",
    "        self.q1 = Queue() \n",
    "        self.q2 = Queue()  \n",
    "              \n",
    "        # To maintain current number  \n",
    "        # of elements \n",
    "        self.curr_size = 0\n",
    "  \n",
    "    def push(self, x): \n",
    "        self.curr_size += 1\n",
    "  \n",
    "        # Push x first in empty q2  \n",
    "        self.q2.put(x)  \n",
    "  \n",
    "        # Push all the remaining  \n",
    "        # elements in q1 to q2.  \n",
    "        while (not self.q1.empty()): \n",
    "            self.q2.put(self.q1.queue[0])  \n",
    "            self.q1.get() \n",
    "  \n",
    "        # swap the names of two queues  \n",
    "        self.q = self.q1  \n",
    "        self.q1 = self.q2  \n",
    "        self.q2 = self.q \n",
    "  \n",
    "    def pop(self): \n",
    "  \n",
    "        # if no elements are there in q1  \n",
    "        if (self.q1.empty()):  \n",
    "            return\n",
    "        self.q1.get()  \n",
    "        self.curr_size -= 1\n",
    "  \n",
    "    def top(self): \n",
    "        if (self.q1.empty()): \n",
    "            return -1\n",
    "        return self.q1.queue[0] \n",
    "  \n",
    "    def size(self): \n",
    "        return self.curr_size \n"
   ]
  },
  {
   "cell_type": "code",
   "execution_count": 2,
   "metadata": {},
   "outputs": [
    {
     "name": "stdout",
     "output_type": "stream",
     "text": [
      "current size:  3\n"
     ]
    }
   ],
   "source": [
    "s = Stack() \n",
    "s.push(1)  \n",
    "s.push(2)  \n",
    "s.push(3) \n",
    "print(\"current size: \", s.size()) "
   ]
  },
  {
   "cell_type": "code",
   "execution_count": 3,
   "metadata": {},
   "outputs": [
    {
     "name": "stdout",
     "output_type": "stream",
     "text": [
      "3\n",
      "2\n",
      "1\n",
      "current size:  1\n"
     ]
    }
   ],
   "source": [
    "print(s.top())  \n",
    "s.pop()  \n",
    "print(s.top())  \n",
    "s.pop()  \n",
    "print(s.top())    \n",
    "print(\"current size: \", s.size())"
   ]
  }
 ],
 "metadata": {
  "kernelspec": {
   "display_name": "Python 3",
   "language": "python",
   "name": "python3"
  },
  "language_info": {
   "codemirror_mode": {
    "name": "ipython",
    "version": 3
   },
   "file_extension": ".py",
   "mimetype": "text/x-python",
   "name": "python",
   "nbconvert_exporter": "python",
   "pygments_lexer": "ipython3",
   "version": "3.6.5"
  }
 },
 "nbformat": 4,
 "nbformat_minor": 2
}
